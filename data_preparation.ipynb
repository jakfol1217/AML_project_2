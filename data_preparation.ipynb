{
 "cells": [
  {
   "cell_type": "code",
   "execution_count": 17,
   "metadata": {
    "collapsed": true
   },
   "outputs": [],
   "source": [
    "import pandas as pd\n",
    "import numpy as np\n",
    "from sklearn.feature_extraction.text import CountVectorizer"
   ]
  },
  {
   "cell_type": "markdown",
   "source": [
    "## Loading artiicial data"
   ],
   "metadata": {
    "collapsed": false
   }
  },
  {
   "cell_type": "code",
   "execution_count": 6,
   "outputs": [],
   "source": [
    "train_art = pd.read_csv('data/artificial_train.data', delim_whitespace=True, header=None)\n",
    "test_art  = pd.read_csv('data/artificial_valid.data', delim_whitespace=True, header=None)\n",
    "train_labels = pd.read_csv('data/artificial_train.labels', header=None)"
   ],
   "metadata": {
    "collapsed": false
   }
  },
  {
   "cell_type": "code",
   "execution_count": 7,
   "outputs": [
    {
     "data": {
      "text/plain": "      0    1    2    3    4    5    6    7    8    9    ...  490  491  492   \n0     485  477  537  479  452  471  491  476  475  473  ...  477  481  477  \\\n1     483  458  460  487  587  475  526  479  485  469  ...  463  478  487   \n2     487  542  499  468  448  471  442  478  480  477  ...  487  481  492   \n3     480  491  510  485  495  472  417  474  502  476  ...  491  480  474   \n4     484  502  528  489  466  481  402  478  487  468  ...  488  479  452   \n...   ...  ...  ...  ...  ...  ...  ...  ...  ...  ...  ...  ...  ...  ...   \n1995  490  505  503  474  463  461  519  476  518  467  ...  467  479  449   \n1996  480  475  476  480  495  482  515  479  480  484  ...  464  474  473   \n1997  480  517  631  470  485  474  535  476  493  466  ...  501  483  479   \n1998  484  481  505  478  542  477  518  477  510  472  ...  487  483  526   \n1999  474  493  469  486  521  475  494  479  481  473  ...  467  476  508   \n\n      493  494  495  496  497  498  499  \n0     485  511  485  481  479  475  496  \n1     338  513  486  483  492  510  517  \n2     650  506  501  480  489  499  498  \n3     572  454  469  475  482  494  461  \n4     435  486  508  481  504  495  511  \n...   ...  ...  ...  ...  ...  ...  ...  \n1995  588  499  506  475  463  507  501  \n1996  424  454  570  476  493  465  485  \n1997  687  488  488  483  500  523  481  \n1998  750  486  529  484  473  527  485  \n1999  449  463  533  481  489  516  516  \n\n[2000 rows x 500 columns]",
      "text/html": "<div>\n<style scoped>\n    .dataframe tbody tr th:only-of-type {\n        vertical-align: middle;\n    }\n\n    .dataframe tbody tr th {\n        vertical-align: top;\n    }\n\n    .dataframe thead th {\n        text-align: right;\n    }\n</style>\n<table border=\"1\" class=\"dataframe\">\n  <thead>\n    <tr style=\"text-align: right;\">\n      <th></th>\n      <th>0</th>\n      <th>1</th>\n      <th>2</th>\n      <th>3</th>\n      <th>4</th>\n      <th>5</th>\n      <th>6</th>\n      <th>7</th>\n      <th>8</th>\n      <th>9</th>\n      <th>...</th>\n      <th>490</th>\n      <th>491</th>\n      <th>492</th>\n      <th>493</th>\n      <th>494</th>\n      <th>495</th>\n      <th>496</th>\n      <th>497</th>\n      <th>498</th>\n      <th>499</th>\n    </tr>\n  </thead>\n  <tbody>\n    <tr>\n      <th>0</th>\n      <td>485</td>\n      <td>477</td>\n      <td>537</td>\n      <td>479</td>\n      <td>452</td>\n      <td>471</td>\n      <td>491</td>\n      <td>476</td>\n      <td>475</td>\n      <td>473</td>\n      <td>...</td>\n      <td>477</td>\n      <td>481</td>\n      <td>477</td>\n      <td>485</td>\n      <td>511</td>\n      <td>485</td>\n      <td>481</td>\n      <td>479</td>\n      <td>475</td>\n      <td>496</td>\n    </tr>\n    <tr>\n      <th>1</th>\n      <td>483</td>\n      <td>458</td>\n      <td>460</td>\n      <td>487</td>\n      <td>587</td>\n      <td>475</td>\n      <td>526</td>\n      <td>479</td>\n      <td>485</td>\n      <td>469</td>\n      <td>...</td>\n      <td>463</td>\n      <td>478</td>\n      <td>487</td>\n      <td>338</td>\n      <td>513</td>\n      <td>486</td>\n      <td>483</td>\n      <td>492</td>\n      <td>510</td>\n      <td>517</td>\n    </tr>\n    <tr>\n      <th>2</th>\n      <td>487</td>\n      <td>542</td>\n      <td>499</td>\n      <td>468</td>\n      <td>448</td>\n      <td>471</td>\n      <td>442</td>\n      <td>478</td>\n      <td>480</td>\n      <td>477</td>\n      <td>...</td>\n      <td>487</td>\n      <td>481</td>\n      <td>492</td>\n      <td>650</td>\n      <td>506</td>\n      <td>501</td>\n      <td>480</td>\n      <td>489</td>\n      <td>499</td>\n      <td>498</td>\n    </tr>\n    <tr>\n      <th>3</th>\n      <td>480</td>\n      <td>491</td>\n      <td>510</td>\n      <td>485</td>\n      <td>495</td>\n      <td>472</td>\n      <td>417</td>\n      <td>474</td>\n      <td>502</td>\n      <td>476</td>\n      <td>...</td>\n      <td>491</td>\n      <td>480</td>\n      <td>474</td>\n      <td>572</td>\n      <td>454</td>\n      <td>469</td>\n      <td>475</td>\n      <td>482</td>\n      <td>494</td>\n      <td>461</td>\n    </tr>\n    <tr>\n      <th>4</th>\n      <td>484</td>\n      <td>502</td>\n      <td>528</td>\n      <td>489</td>\n      <td>466</td>\n      <td>481</td>\n      <td>402</td>\n      <td>478</td>\n      <td>487</td>\n      <td>468</td>\n      <td>...</td>\n      <td>488</td>\n      <td>479</td>\n      <td>452</td>\n      <td>435</td>\n      <td>486</td>\n      <td>508</td>\n      <td>481</td>\n      <td>504</td>\n      <td>495</td>\n      <td>511</td>\n    </tr>\n    <tr>\n      <th>...</th>\n      <td>...</td>\n      <td>...</td>\n      <td>...</td>\n      <td>...</td>\n      <td>...</td>\n      <td>...</td>\n      <td>...</td>\n      <td>...</td>\n      <td>...</td>\n      <td>...</td>\n      <td>...</td>\n      <td>...</td>\n      <td>...</td>\n      <td>...</td>\n      <td>...</td>\n      <td>...</td>\n      <td>...</td>\n      <td>...</td>\n      <td>...</td>\n      <td>...</td>\n      <td>...</td>\n    </tr>\n    <tr>\n      <th>1995</th>\n      <td>490</td>\n      <td>505</td>\n      <td>503</td>\n      <td>474</td>\n      <td>463</td>\n      <td>461</td>\n      <td>519</td>\n      <td>476</td>\n      <td>518</td>\n      <td>467</td>\n      <td>...</td>\n      <td>467</td>\n      <td>479</td>\n      <td>449</td>\n      <td>588</td>\n      <td>499</td>\n      <td>506</td>\n      <td>475</td>\n      <td>463</td>\n      <td>507</td>\n      <td>501</td>\n    </tr>\n    <tr>\n      <th>1996</th>\n      <td>480</td>\n      <td>475</td>\n      <td>476</td>\n      <td>480</td>\n      <td>495</td>\n      <td>482</td>\n      <td>515</td>\n      <td>479</td>\n      <td>480</td>\n      <td>484</td>\n      <td>...</td>\n      <td>464</td>\n      <td>474</td>\n      <td>473</td>\n      <td>424</td>\n      <td>454</td>\n      <td>570</td>\n      <td>476</td>\n      <td>493</td>\n      <td>465</td>\n      <td>485</td>\n    </tr>\n    <tr>\n      <th>1997</th>\n      <td>480</td>\n      <td>517</td>\n      <td>631</td>\n      <td>470</td>\n      <td>485</td>\n      <td>474</td>\n      <td>535</td>\n      <td>476</td>\n      <td>493</td>\n      <td>466</td>\n      <td>...</td>\n      <td>501</td>\n      <td>483</td>\n      <td>479</td>\n      <td>687</td>\n      <td>488</td>\n      <td>488</td>\n      <td>483</td>\n      <td>500</td>\n      <td>523</td>\n      <td>481</td>\n    </tr>\n    <tr>\n      <th>1998</th>\n      <td>484</td>\n      <td>481</td>\n      <td>505</td>\n      <td>478</td>\n      <td>542</td>\n      <td>477</td>\n      <td>518</td>\n      <td>477</td>\n      <td>510</td>\n      <td>472</td>\n      <td>...</td>\n      <td>487</td>\n      <td>483</td>\n      <td>526</td>\n      <td>750</td>\n      <td>486</td>\n      <td>529</td>\n      <td>484</td>\n      <td>473</td>\n      <td>527</td>\n      <td>485</td>\n    </tr>\n    <tr>\n      <th>1999</th>\n      <td>474</td>\n      <td>493</td>\n      <td>469</td>\n      <td>486</td>\n      <td>521</td>\n      <td>475</td>\n      <td>494</td>\n      <td>479</td>\n      <td>481</td>\n      <td>473</td>\n      <td>...</td>\n      <td>467</td>\n      <td>476</td>\n      <td>508</td>\n      <td>449</td>\n      <td>463</td>\n      <td>533</td>\n      <td>481</td>\n      <td>489</td>\n      <td>516</td>\n      <td>516</td>\n    </tr>\n  </tbody>\n</table>\n<p>2000 rows × 500 columns</p>\n</div>"
     },
     "execution_count": 7,
     "metadata": {},
     "output_type": "execute_result"
    }
   ],
   "source": [
    "train_art"
   ],
   "metadata": {
    "collapsed": false
   }
  },
  {
   "cell_type": "code",
   "execution_count": 8,
   "outputs": [
    {
     "data": {
      "text/plain": "     0    1    2    3    4    5    6    7    8    9    ...  490  491  492   \n0    483  454  513  495  523  469  453  477  506  479  ...  455  480  543  \\\n1    485  508  493  487  478  472  504  476  479  475  ...  486  480  535   \n2    483  521  507  475  493  486  421  475  496  483  ...  491  476  498   \n3    474  504  576  480  553  483  524  478  483  483  ...  521  475  470   \n4    495  474  523  479  495  488  485  476  497  478  ...  510  471  522   \n..   ...  ...  ...  ...  ...  ...  ...  ...  ...  ...  ...  ...  ...  ...   \n595  493  458  503  478  517  479  472  478  444  477  ...  469  475  485   \n596  481  484  481  490  449  481  467  478  469  483  ...  506  485  508   \n597  485  485  530  480  444  487  462  475  509  494  ...  442  474  502   \n598  477  469  528  485  483  469  482  477  494  476  ...  473  476  453   \n599  482  453  515  481  500  493  503  477  501  475  ...  484  478  487   \n\n     493  494  495  496  497  498  499  \n0    259  413  520  485  498  523  510  \n1    534  514  452  484  495  548  477  \n2    495  508  528  486  465  508  503  \n3    463  509  525  479  467  552  517  \n4    343  509  520  475  493  506  491  \n..   ...  ...  ...  ...  ...  ...  ...  \n595  443  517  486  474  489  506  506  \n596  599  498  527  481  490  455  451  \n597  368  453  482  478  481  484  517  \n598  638  471  538  470  490  613  492  \n599  694  493  499  474  494  536  526  \n\n[600 rows x 500 columns]",
      "text/html": "<div>\n<style scoped>\n    .dataframe tbody tr th:only-of-type {\n        vertical-align: middle;\n    }\n\n    .dataframe tbody tr th {\n        vertical-align: top;\n    }\n\n    .dataframe thead th {\n        text-align: right;\n    }\n</style>\n<table border=\"1\" class=\"dataframe\">\n  <thead>\n    <tr style=\"text-align: right;\">\n      <th></th>\n      <th>0</th>\n      <th>1</th>\n      <th>2</th>\n      <th>3</th>\n      <th>4</th>\n      <th>5</th>\n      <th>6</th>\n      <th>7</th>\n      <th>8</th>\n      <th>9</th>\n      <th>...</th>\n      <th>490</th>\n      <th>491</th>\n      <th>492</th>\n      <th>493</th>\n      <th>494</th>\n      <th>495</th>\n      <th>496</th>\n      <th>497</th>\n      <th>498</th>\n      <th>499</th>\n    </tr>\n  </thead>\n  <tbody>\n    <tr>\n      <th>0</th>\n      <td>483</td>\n      <td>454</td>\n      <td>513</td>\n      <td>495</td>\n      <td>523</td>\n      <td>469</td>\n      <td>453</td>\n      <td>477</td>\n      <td>506</td>\n      <td>479</td>\n      <td>...</td>\n      <td>455</td>\n      <td>480</td>\n      <td>543</td>\n      <td>259</td>\n      <td>413</td>\n      <td>520</td>\n      <td>485</td>\n      <td>498</td>\n      <td>523</td>\n      <td>510</td>\n    </tr>\n    <tr>\n      <th>1</th>\n      <td>485</td>\n      <td>508</td>\n      <td>493</td>\n      <td>487</td>\n      <td>478</td>\n      <td>472</td>\n      <td>504</td>\n      <td>476</td>\n      <td>479</td>\n      <td>475</td>\n      <td>...</td>\n      <td>486</td>\n      <td>480</td>\n      <td>535</td>\n      <td>534</td>\n      <td>514</td>\n      <td>452</td>\n      <td>484</td>\n      <td>495</td>\n      <td>548</td>\n      <td>477</td>\n    </tr>\n    <tr>\n      <th>2</th>\n      <td>483</td>\n      <td>521</td>\n      <td>507</td>\n      <td>475</td>\n      <td>493</td>\n      <td>486</td>\n      <td>421</td>\n      <td>475</td>\n      <td>496</td>\n      <td>483</td>\n      <td>...</td>\n      <td>491</td>\n      <td>476</td>\n      <td>498</td>\n      <td>495</td>\n      <td>508</td>\n      <td>528</td>\n      <td>486</td>\n      <td>465</td>\n      <td>508</td>\n      <td>503</td>\n    </tr>\n    <tr>\n      <th>3</th>\n      <td>474</td>\n      <td>504</td>\n      <td>576</td>\n      <td>480</td>\n      <td>553</td>\n      <td>483</td>\n      <td>524</td>\n      <td>478</td>\n      <td>483</td>\n      <td>483</td>\n      <td>...</td>\n      <td>521</td>\n      <td>475</td>\n      <td>470</td>\n      <td>463</td>\n      <td>509</td>\n      <td>525</td>\n      <td>479</td>\n      <td>467</td>\n      <td>552</td>\n      <td>517</td>\n    </tr>\n    <tr>\n      <th>4</th>\n      <td>495</td>\n      <td>474</td>\n      <td>523</td>\n      <td>479</td>\n      <td>495</td>\n      <td>488</td>\n      <td>485</td>\n      <td>476</td>\n      <td>497</td>\n      <td>478</td>\n      <td>...</td>\n      <td>510</td>\n      <td>471</td>\n      <td>522</td>\n      <td>343</td>\n      <td>509</td>\n      <td>520</td>\n      <td>475</td>\n      <td>493</td>\n      <td>506</td>\n      <td>491</td>\n    </tr>\n    <tr>\n      <th>...</th>\n      <td>...</td>\n      <td>...</td>\n      <td>...</td>\n      <td>...</td>\n      <td>...</td>\n      <td>...</td>\n      <td>...</td>\n      <td>...</td>\n      <td>...</td>\n      <td>...</td>\n      <td>...</td>\n      <td>...</td>\n      <td>...</td>\n      <td>...</td>\n      <td>...</td>\n      <td>...</td>\n      <td>...</td>\n      <td>...</td>\n      <td>...</td>\n      <td>...</td>\n      <td>...</td>\n    </tr>\n    <tr>\n      <th>595</th>\n      <td>493</td>\n      <td>458</td>\n      <td>503</td>\n      <td>478</td>\n      <td>517</td>\n      <td>479</td>\n      <td>472</td>\n      <td>478</td>\n      <td>444</td>\n      <td>477</td>\n      <td>...</td>\n      <td>469</td>\n      <td>475</td>\n      <td>485</td>\n      <td>443</td>\n      <td>517</td>\n      <td>486</td>\n      <td>474</td>\n      <td>489</td>\n      <td>506</td>\n      <td>506</td>\n    </tr>\n    <tr>\n      <th>596</th>\n      <td>481</td>\n      <td>484</td>\n      <td>481</td>\n      <td>490</td>\n      <td>449</td>\n      <td>481</td>\n      <td>467</td>\n      <td>478</td>\n      <td>469</td>\n      <td>483</td>\n      <td>...</td>\n      <td>506</td>\n      <td>485</td>\n      <td>508</td>\n      <td>599</td>\n      <td>498</td>\n      <td>527</td>\n      <td>481</td>\n      <td>490</td>\n      <td>455</td>\n      <td>451</td>\n    </tr>\n    <tr>\n      <th>597</th>\n      <td>485</td>\n      <td>485</td>\n      <td>530</td>\n      <td>480</td>\n      <td>444</td>\n      <td>487</td>\n      <td>462</td>\n      <td>475</td>\n      <td>509</td>\n      <td>494</td>\n      <td>...</td>\n      <td>442</td>\n      <td>474</td>\n      <td>502</td>\n      <td>368</td>\n      <td>453</td>\n      <td>482</td>\n      <td>478</td>\n      <td>481</td>\n      <td>484</td>\n      <td>517</td>\n    </tr>\n    <tr>\n      <th>598</th>\n      <td>477</td>\n      <td>469</td>\n      <td>528</td>\n      <td>485</td>\n      <td>483</td>\n      <td>469</td>\n      <td>482</td>\n      <td>477</td>\n      <td>494</td>\n      <td>476</td>\n      <td>...</td>\n      <td>473</td>\n      <td>476</td>\n      <td>453</td>\n      <td>638</td>\n      <td>471</td>\n      <td>538</td>\n      <td>470</td>\n      <td>490</td>\n      <td>613</td>\n      <td>492</td>\n    </tr>\n    <tr>\n      <th>599</th>\n      <td>482</td>\n      <td>453</td>\n      <td>515</td>\n      <td>481</td>\n      <td>500</td>\n      <td>493</td>\n      <td>503</td>\n      <td>477</td>\n      <td>501</td>\n      <td>475</td>\n      <td>...</td>\n      <td>484</td>\n      <td>478</td>\n      <td>487</td>\n      <td>694</td>\n      <td>493</td>\n      <td>499</td>\n      <td>474</td>\n      <td>494</td>\n      <td>536</td>\n      <td>526</td>\n    </tr>\n  </tbody>\n</table>\n<p>600 rows × 500 columns</p>\n</div>"
     },
     "execution_count": 8,
     "metadata": {},
     "output_type": "execute_result"
    }
   ],
   "source": [
    "test_art"
   ],
   "metadata": {
    "collapsed": false
   }
  },
  {
   "cell_type": "markdown",
   "source": [
    "## Loading spam data"
   ],
   "metadata": {
    "collapsed": false
   }
  },
  {
   "cell_type": "code",
   "execution_count": 216,
   "outputs": [],
   "source": [
    "def get_spam_training_data(file, labels, sep):\n",
    "    spam_train = []\n",
    "    spam_train_labels = []\n",
    "    with open(file, encoding='utf8') as f:\n",
    "        for line in f:\n",
    "            line = line.replace('\"', '')\n",
    "            label, text = line.split(sep=sep, maxsplit=1)\n",
    "            if label not in labels:\n",
    "                continue\n",
    "            spam_train_labels.append(label)\n",
    "            spam_train.append(text[:-1])\n",
    "    cv = CountVectorizer(strip_accents='unicode')\n",
    "    X = cv.fit_transform(spam_train)\n",
    "    df = pd.DataFrame(X.toarray(),\n",
    "                      columns=cv.get_feature_names_out())\n",
    "    return df, spam_train_labels, cv\n",
    "\n",
    "def get_spam_test_data(file, cv):\n",
    "    spam_test = []\n",
    "    with open(file, encoding='utf8') as f:\n",
    "        for line in f:\n",
    "            line = line.replace('\"', '')\n",
    "            spam_test.append(line)\n",
    "    spam_test.pop(0)\n",
    "    X = cv.transform(spam_test)\n",
    "    df = pd.DataFrame(X.toarray(),\n",
    "                  columns=cv.get_feature_names_out())\n",
    "    return df"
   ],
   "metadata": {
    "collapsed": false
   }
  },
  {
   "cell_type": "code",
   "execution_count": 217,
   "outputs": [],
   "source": [
    "train_spam, labels_train_spam, cv_train = get_spam_training_data('data/sms_train.csv', ['0', '1'], ',')"
   ],
   "metadata": {
    "collapsed": false
   }
  },
  {
   "cell_type": "code",
   "execution_count": 218,
   "outputs": [
    {
     "data": {
      "text/plain": "      00  000  000pes  008704050406  0089  0121  01223585236  01223585334  02   \n0      0    0       0             0     0     0            0            0   0  \\\n1      0    0       0             0     0     0            0            0   0   \n2      0    0       0             0     0     0            0            0   0   \n3      0    0       0             0     0     0            0            0   0   \n4      0    0       0             0     0     0            0            0   0   \n...   ..  ...     ...           ...   ...   ...          ...          ...  ..   \n4567   0    0       0             0     0     0            0            0   0   \n4568   0    0       0             0     0     0            0            0   0   \n4569   0    0       0             0     0     0            0            0   0   \n4570   0    0       0             0     0     0            0            0   0   \n4571   0    0       0             0     0     0            0            0   0   \n\n      0207  ...  zebra  zed  zhong  zindgi  zoe  zogtorius  zoom  zouk  zyada   \n0        0  ...      0    0      0       0    0          0     0     0      0  \\\n1        0  ...      0    0      0       0    0          0     0     0      0   \n2        0  ...      0    0      0       0    0          0     0     0      0   \n3        0  ...      0    0      0       0    0          0     0     0      0   \n4        0  ...      0    0      0       0    0          0     0     0      0   \n...    ...  ...    ...  ...    ...     ...  ...        ...   ...   ...    ...   \n4567     0  ...      0    0      0       0    0          0     0     0      0   \n4568     0  ...      0    0      0       0    0          0     0     0      0   \n4569     0  ...      0    0      0       0    0          0     0     0      0   \n4570     0  ...      0    0      0       0    0          0     0     0      0   \n4571     0  ...      0    0      0       0    0          0     0     0      0   \n\n      〨ud  \n0       0  \n1       0  \n2       0  \n3       0  \n4       0  \n...   ...  \n4567    0  \n4568    0  \n4569    0  \n4570    0  \n4571    0  \n\n[4572 rows x 7900 columns]",
      "text/html": "<div>\n<style scoped>\n    .dataframe tbody tr th:only-of-type {\n        vertical-align: middle;\n    }\n\n    .dataframe tbody tr th {\n        vertical-align: top;\n    }\n\n    .dataframe thead th {\n        text-align: right;\n    }\n</style>\n<table border=\"1\" class=\"dataframe\">\n  <thead>\n    <tr style=\"text-align: right;\">\n      <th></th>\n      <th>00</th>\n      <th>000</th>\n      <th>000pes</th>\n      <th>008704050406</th>\n      <th>0089</th>\n      <th>0121</th>\n      <th>01223585236</th>\n      <th>01223585334</th>\n      <th>02</th>\n      <th>0207</th>\n      <th>...</th>\n      <th>zebra</th>\n      <th>zed</th>\n      <th>zhong</th>\n      <th>zindgi</th>\n      <th>zoe</th>\n      <th>zogtorius</th>\n      <th>zoom</th>\n      <th>zouk</th>\n      <th>zyada</th>\n      <th>〨ud</th>\n    </tr>\n  </thead>\n  <tbody>\n    <tr>\n      <th>0</th>\n      <td>0</td>\n      <td>0</td>\n      <td>0</td>\n      <td>0</td>\n      <td>0</td>\n      <td>0</td>\n      <td>0</td>\n      <td>0</td>\n      <td>0</td>\n      <td>0</td>\n      <td>...</td>\n      <td>0</td>\n      <td>0</td>\n      <td>0</td>\n      <td>0</td>\n      <td>0</td>\n      <td>0</td>\n      <td>0</td>\n      <td>0</td>\n      <td>0</td>\n      <td>0</td>\n    </tr>\n    <tr>\n      <th>1</th>\n      <td>0</td>\n      <td>0</td>\n      <td>0</td>\n      <td>0</td>\n      <td>0</td>\n      <td>0</td>\n      <td>0</td>\n      <td>0</td>\n      <td>0</td>\n      <td>0</td>\n      <td>...</td>\n      <td>0</td>\n      <td>0</td>\n      <td>0</td>\n      <td>0</td>\n      <td>0</td>\n      <td>0</td>\n      <td>0</td>\n      <td>0</td>\n      <td>0</td>\n      <td>0</td>\n    </tr>\n    <tr>\n      <th>2</th>\n      <td>0</td>\n      <td>0</td>\n      <td>0</td>\n      <td>0</td>\n      <td>0</td>\n      <td>0</td>\n      <td>0</td>\n      <td>0</td>\n      <td>0</td>\n      <td>0</td>\n      <td>...</td>\n      <td>0</td>\n      <td>0</td>\n      <td>0</td>\n      <td>0</td>\n      <td>0</td>\n      <td>0</td>\n      <td>0</td>\n      <td>0</td>\n      <td>0</td>\n      <td>0</td>\n    </tr>\n    <tr>\n      <th>3</th>\n      <td>0</td>\n      <td>0</td>\n      <td>0</td>\n      <td>0</td>\n      <td>0</td>\n      <td>0</td>\n      <td>0</td>\n      <td>0</td>\n      <td>0</td>\n      <td>0</td>\n      <td>...</td>\n      <td>0</td>\n      <td>0</td>\n      <td>0</td>\n      <td>0</td>\n      <td>0</td>\n      <td>0</td>\n      <td>0</td>\n      <td>0</td>\n      <td>0</td>\n      <td>0</td>\n    </tr>\n    <tr>\n      <th>4</th>\n      <td>0</td>\n      <td>0</td>\n      <td>0</td>\n      <td>0</td>\n      <td>0</td>\n      <td>0</td>\n      <td>0</td>\n      <td>0</td>\n      <td>0</td>\n      <td>0</td>\n      <td>...</td>\n      <td>0</td>\n      <td>0</td>\n      <td>0</td>\n      <td>0</td>\n      <td>0</td>\n      <td>0</td>\n      <td>0</td>\n      <td>0</td>\n      <td>0</td>\n      <td>0</td>\n    </tr>\n    <tr>\n      <th>...</th>\n      <td>...</td>\n      <td>...</td>\n      <td>...</td>\n      <td>...</td>\n      <td>...</td>\n      <td>...</td>\n      <td>...</td>\n      <td>...</td>\n      <td>...</td>\n      <td>...</td>\n      <td>...</td>\n      <td>...</td>\n      <td>...</td>\n      <td>...</td>\n      <td>...</td>\n      <td>...</td>\n      <td>...</td>\n      <td>...</td>\n      <td>...</td>\n      <td>...</td>\n      <td>...</td>\n    </tr>\n    <tr>\n      <th>4567</th>\n      <td>0</td>\n      <td>0</td>\n      <td>0</td>\n      <td>0</td>\n      <td>0</td>\n      <td>0</td>\n      <td>0</td>\n      <td>0</td>\n      <td>0</td>\n      <td>0</td>\n      <td>...</td>\n      <td>0</td>\n      <td>0</td>\n      <td>0</td>\n      <td>0</td>\n      <td>0</td>\n      <td>0</td>\n      <td>0</td>\n      <td>0</td>\n      <td>0</td>\n      <td>0</td>\n    </tr>\n    <tr>\n      <th>4568</th>\n      <td>0</td>\n      <td>0</td>\n      <td>0</td>\n      <td>0</td>\n      <td>0</td>\n      <td>0</td>\n      <td>0</td>\n      <td>0</td>\n      <td>0</td>\n      <td>0</td>\n      <td>...</td>\n      <td>0</td>\n      <td>0</td>\n      <td>0</td>\n      <td>0</td>\n      <td>0</td>\n      <td>0</td>\n      <td>0</td>\n      <td>0</td>\n      <td>0</td>\n      <td>0</td>\n    </tr>\n    <tr>\n      <th>4569</th>\n      <td>0</td>\n      <td>0</td>\n      <td>0</td>\n      <td>0</td>\n      <td>0</td>\n      <td>0</td>\n      <td>0</td>\n      <td>0</td>\n      <td>0</td>\n      <td>0</td>\n      <td>...</td>\n      <td>0</td>\n      <td>0</td>\n      <td>0</td>\n      <td>0</td>\n      <td>0</td>\n      <td>0</td>\n      <td>0</td>\n      <td>0</td>\n      <td>0</td>\n      <td>0</td>\n    </tr>\n    <tr>\n      <th>4570</th>\n      <td>0</td>\n      <td>0</td>\n      <td>0</td>\n      <td>0</td>\n      <td>0</td>\n      <td>0</td>\n      <td>0</td>\n      <td>0</td>\n      <td>0</td>\n      <td>0</td>\n      <td>...</td>\n      <td>0</td>\n      <td>0</td>\n      <td>0</td>\n      <td>0</td>\n      <td>0</td>\n      <td>0</td>\n      <td>0</td>\n      <td>0</td>\n      <td>0</td>\n      <td>0</td>\n    </tr>\n    <tr>\n      <th>4571</th>\n      <td>0</td>\n      <td>0</td>\n      <td>0</td>\n      <td>0</td>\n      <td>0</td>\n      <td>0</td>\n      <td>0</td>\n      <td>0</td>\n      <td>0</td>\n      <td>0</td>\n      <td>...</td>\n      <td>0</td>\n      <td>0</td>\n      <td>0</td>\n      <td>0</td>\n      <td>0</td>\n      <td>0</td>\n      <td>0</td>\n      <td>0</td>\n      <td>0</td>\n      <td>0</td>\n    </tr>\n  </tbody>\n</table>\n<p>4572 rows × 7900 columns</p>\n</div>"
     },
     "execution_count": 218,
     "metadata": {},
     "output_type": "execute_result"
    }
   ],
   "source": [
    "train_spam # I can't get below 7900 features, in task description it's 7879 but I'm out of ideas"
   ],
   "metadata": {
    "collapsed": false
   }
  },
  {
   "cell_type": "markdown",
   "source": [
    "I am also loading the sms.tsv file, although I'm not sure if it should be used in the project, as it's notdescribed in the task description."
   ],
   "metadata": {
    "collapsed": false
   }
  },
  {
   "cell_type": "code",
   "execution_count": 185,
   "outputs": [],
   "source": [
    "tsv_spam, labels_tsv_spam, _ = get_spam_training_data('data/sms.tsv', ['ham', 'spam'], '\\t')\n",
    "labels_tsv_spam = ['0' if tx == 'ham' else '1' for tx in labels_tsv_spam]"
   ],
   "metadata": {
    "collapsed": false
   }
  },
  {
   "cell_type": "markdown",
   "source": [
    "## Loading test spam data"
   ],
   "metadata": {
    "collapsed": false
   }
  },
  {
   "cell_type": "code",
   "execution_count": 210,
   "outputs": [],
   "source": [
    "test_spam = get_spam_test_data('data/sms_test.csv', cv_train)"
   ],
   "metadata": {
    "collapsed": false
   }
  },
  {
   "cell_type": "code",
   "execution_count": 219,
   "outputs": [
    {
     "data": {
      "text/plain": "     00  000  000pes  008704050406  0089  0121  01223585236  01223585334  02   \n0     0    0       0             0     0     0            0            0   0  \\\n1     0    0       0             0     0     0            0            0   0   \n2     0    0       0             0     0     0            0            0   0   \n3     0    0       0             0     0     0            0            0   0   \n4     0    0       0             0     0     0            0            0   0   \n..   ..  ...     ...           ...   ...   ...          ...          ...  ..   \n995   0    0       0             0     0     0            0            0   0   \n996   0    0       0             0     0     0            0            0   0   \n997   0    0       0             0     0     0            0            0   0   \n998   0    0       0             0     0     0            0            0   0   \n999   0    0       0             0     0     0            0            0   0   \n\n     0207  ...  zhong  zindgi  zoe  zogtorius  zoom  zouk  zyada  èn  ú1  〨ud  \n0       0  ...      0       0    0          0     0     0      0   0   0    0  \n1       0  ...      0       0    0          0     0     0      0   0   0    0  \n2       0  ...      0       0    0          0     0     0      0   0   0    0  \n3       0  ...      0       0    0          0     0     0      0   0   0    0  \n4       0  ...      0       0    0          0     0     0      0   0   0    0  \n..    ...  ...    ...     ...  ...        ...   ...   ...    ...  ..  ..  ...  \n995     0  ...      0       0    0          0     0     0      0   0   0    0  \n996     0  ...      0       0    0          0     0     0      0   0   0    0  \n997     0  ...      0       0    0          0     0     0      0   0   0    0  \n998     0  ...      0       0    0          0     0     0      0   0   0    0  \n999     0  ...      0       0    0          0     0     0      0   0   0    0  \n\n[1000 rows x 7902 columns]",
      "text/html": "<div>\n<style scoped>\n    .dataframe tbody tr th:only-of-type {\n        vertical-align: middle;\n    }\n\n    .dataframe tbody tr th {\n        vertical-align: top;\n    }\n\n    .dataframe thead th {\n        text-align: right;\n    }\n</style>\n<table border=\"1\" class=\"dataframe\">\n  <thead>\n    <tr style=\"text-align: right;\">\n      <th></th>\n      <th>00</th>\n      <th>000</th>\n      <th>000pes</th>\n      <th>008704050406</th>\n      <th>0089</th>\n      <th>0121</th>\n      <th>01223585236</th>\n      <th>01223585334</th>\n      <th>02</th>\n      <th>0207</th>\n      <th>...</th>\n      <th>zhong</th>\n      <th>zindgi</th>\n      <th>zoe</th>\n      <th>zogtorius</th>\n      <th>zoom</th>\n      <th>zouk</th>\n      <th>zyada</th>\n      <th>èn</th>\n      <th>ú1</th>\n      <th>〨ud</th>\n    </tr>\n  </thead>\n  <tbody>\n    <tr>\n      <th>0</th>\n      <td>0</td>\n      <td>0</td>\n      <td>0</td>\n      <td>0</td>\n      <td>0</td>\n      <td>0</td>\n      <td>0</td>\n      <td>0</td>\n      <td>0</td>\n      <td>0</td>\n      <td>...</td>\n      <td>0</td>\n      <td>0</td>\n      <td>0</td>\n      <td>0</td>\n      <td>0</td>\n      <td>0</td>\n      <td>0</td>\n      <td>0</td>\n      <td>0</td>\n      <td>0</td>\n    </tr>\n    <tr>\n      <th>1</th>\n      <td>0</td>\n      <td>0</td>\n      <td>0</td>\n      <td>0</td>\n      <td>0</td>\n      <td>0</td>\n      <td>0</td>\n      <td>0</td>\n      <td>0</td>\n      <td>0</td>\n      <td>...</td>\n      <td>0</td>\n      <td>0</td>\n      <td>0</td>\n      <td>0</td>\n      <td>0</td>\n      <td>0</td>\n      <td>0</td>\n      <td>0</td>\n      <td>0</td>\n      <td>0</td>\n    </tr>\n    <tr>\n      <th>2</th>\n      <td>0</td>\n      <td>0</td>\n      <td>0</td>\n      <td>0</td>\n      <td>0</td>\n      <td>0</td>\n      <td>0</td>\n      <td>0</td>\n      <td>0</td>\n      <td>0</td>\n      <td>...</td>\n      <td>0</td>\n      <td>0</td>\n      <td>0</td>\n      <td>0</td>\n      <td>0</td>\n      <td>0</td>\n      <td>0</td>\n      <td>0</td>\n      <td>0</td>\n      <td>0</td>\n    </tr>\n    <tr>\n      <th>3</th>\n      <td>0</td>\n      <td>0</td>\n      <td>0</td>\n      <td>0</td>\n      <td>0</td>\n      <td>0</td>\n      <td>0</td>\n      <td>0</td>\n      <td>0</td>\n      <td>0</td>\n      <td>...</td>\n      <td>0</td>\n      <td>0</td>\n      <td>0</td>\n      <td>0</td>\n      <td>0</td>\n      <td>0</td>\n      <td>0</td>\n      <td>0</td>\n      <td>0</td>\n      <td>0</td>\n    </tr>\n    <tr>\n      <th>4</th>\n      <td>0</td>\n      <td>0</td>\n      <td>0</td>\n      <td>0</td>\n      <td>0</td>\n      <td>0</td>\n      <td>0</td>\n      <td>0</td>\n      <td>0</td>\n      <td>0</td>\n      <td>...</td>\n      <td>0</td>\n      <td>0</td>\n      <td>0</td>\n      <td>0</td>\n      <td>0</td>\n      <td>0</td>\n      <td>0</td>\n      <td>0</td>\n      <td>0</td>\n      <td>0</td>\n    </tr>\n    <tr>\n      <th>...</th>\n      <td>...</td>\n      <td>...</td>\n      <td>...</td>\n      <td>...</td>\n      <td>...</td>\n      <td>...</td>\n      <td>...</td>\n      <td>...</td>\n      <td>...</td>\n      <td>...</td>\n      <td>...</td>\n      <td>...</td>\n      <td>...</td>\n      <td>...</td>\n      <td>...</td>\n      <td>...</td>\n      <td>...</td>\n      <td>...</td>\n      <td>...</td>\n      <td>...</td>\n      <td>...</td>\n    </tr>\n    <tr>\n      <th>995</th>\n      <td>0</td>\n      <td>0</td>\n      <td>0</td>\n      <td>0</td>\n      <td>0</td>\n      <td>0</td>\n      <td>0</td>\n      <td>0</td>\n      <td>0</td>\n      <td>0</td>\n      <td>...</td>\n      <td>0</td>\n      <td>0</td>\n      <td>0</td>\n      <td>0</td>\n      <td>0</td>\n      <td>0</td>\n      <td>0</td>\n      <td>0</td>\n      <td>0</td>\n      <td>0</td>\n    </tr>\n    <tr>\n      <th>996</th>\n      <td>0</td>\n      <td>0</td>\n      <td>0</td>\n      <td>0</td>\n      <td>0</td>\n      <td>0</td>\n      <td>0</td>\n      <td>0</td>\n      <td>0</td>\n      <td>0</td>\n      <td>...</td>\n      <td>0</td>\n      <td>0</td>\n      <td>0</td>\n      <td>0</td>\n      <td>0</td>\n      <td>0</td>\n      <td>0</td>\n      <td>0</td>\n      <td>0</td>\n      <td>0</td>\n    </tr>\n    <tr>\n      <th>997</th>\n      <td>0</td>\n      <td>0</td>\n      <td>0</td>\n      <td>0</td>\n      <td>0</td>\n      <td>0</td>\n      <td>0</td>\n      <td>0</td>\n      <td>0</td>\n      <td>0</td>\n      <td>...</td>\n      <td>0</td>\n      <td>0</td>\n      <td>0</td>\n      <td>0</td>\n      <td>0</td>\n      <td>0</td>\n      <td>0</td>\n      <td>0</td>\n      <td>0</td>\n      <td>0</td>\n    </tr>\n    <tr>\n      <th>998</th>\n      <td>0</td>\n      <td>0</td>\n      <td>0</td>\n      <td>0</td>\n      <td>0</td>\n      <td>0</td>\n      <td>0</td>\n      <td>0</td>\n      <td>0</td>\n      <td>0</td>\n      <td>...</td>\n      <td>0</td>\n      <td>0</td>\n      <td>0</td>\n      <td>0</td>\n      <td>0</td>\n      <td>0</td>\n      <td>0</td>\n      <td>0</td>\n      <td>0</td>\n      <td>0</td>\n    </tr>\n    <tr>\n      <th>999</th>\n      <td>0</td>\n      <td>0</td>\n      <td>0</td>\n      <td>0</td>\n      <td>0</td>\n      <td>0</td>\n      <td>0</td>\n      <td>0</td>\n      <td>0</td>\n      <td>0</td>\n      <td>...</td>\n      <td>0</td>\n      <td>0</td>\n      <td>0</td>\n      <td>0</td>\n      <td>0</td>\n      <td>0</td>\n      <td>0</td>\n      <td>0</td>\n      <td>0</td>\n      <td>0</td>\n    </tr>\n  </tbody>\n</table>\n<p>1000 rows × 7902 columns</p>\n</div>"
     },
     "execution_count": 219,
     "metadata": {},
     "output_type": "execute_result"
    }
   ],
   "source": [
    "test_spam"
   ],
   "metadata": {
    "collapsed": false
   }
  }
 ],
 "metadata": {
  "kernelspec": {
   "display_name": "Python 3",
   "language": "python",
   "name": "python3"
  },
  "language_info": {
   "codemirror_mode": {
    "name": "ipython",
    "version": 2
   },
   "file_extension": ".py",
   "mimetype": "text/x-python",
   "name": "python",
   "nbconvert_exporter": "python",
   "pygments_lexer": "ipython2",
   "version": "2.7.6"
  }
 },
 "nbformat": 4,
 "nbformat_minor": 0
}
